{
  "nbformat": 4,
  "nbformat_minor": 0,
  "metadata": {
    "colab": {
      "name": "Minor project.ipynb",
      "provenance": [],
      "authorship_tag": "ABX9TyMxSIXX4igBkqqvAz5dRRa0",
      "include_colab_link": true
    },
    "kernelspec": {
      "name": "python3",
      "display_name": "Python 3"
    },
    "language_info": {
      "name": "python"
    }
  },
  "cells": [
    {
      "cell_type": "markdown",
      "metadata": {
        "id": "view-in-github",
        "colab_type": "text"
      },
      "source": [
        "<a href=\"https://colab.research.google.com/github/kambhampatignaneswar/image-classification/blob/main/Minor_project.ipynb\" target=\"_parent\"><img src=\"https://colab.research.google.com/assets/colab-badge.svg\" alt=\"Open In Colab\"/></a>"
      ]
    },
    {
      "cell_type": "code",
      "metadata": {
        "colab": {
          "base_uri": "https://localhost:8080/"
        },
        "id": "NfGM9AGQ0keD",
        "outputId": "25e8740a-b5db-47e5-9582-eee535dab67a"
      },
      "source": [
        "!pip install ipython-autotime\n",
        "%load_ext autotime"
      ],
      "execution_count": 1,
      "outputs": [
        {
          "output_type": "stream",
          "text": [
            "Collecting ipython-autotime\n",
            "  Downloading https://files.pythonhosted.org/packages/b4/c9/b413a24f759641bc27ef98c144b590023c8038dfb8a3f09e713e9dff12c1/ipython_autotime-0.3.1-py2.py3-none-any.whl\n",
            "Requirement already satisfied: ipython in /usr/local/lib/python3.7/dist-packages (from ipython-autotime) (5.5.0)\n",
            "Requirement already satisfied: setuptools>=18.5 in /usr/local/lib/python3.7/dist-packages (from ipython->ipython-autotime) (57.0.0)\n",
            "Requirement already satisfied: simplegeneric>0.8 in /usr/local/lib/python3.7/dist-packages (from ipython->ipython-autotime) (0.8.1)\n",
            "Requirement already satisfied: traitlets>=4.2 in /usr/local/lib/python3.7/dist-packages (from ipython->ipython-autotime) (5.0.5)\n",
            "Requirement already satisfied: decorator in /usr/local/lib/python3.7/dist-packages (from ipython->ipython-autotime) (4.4.2)\n",
            "Requirement already satisfied: pexpect; sys_platform != \"win32\" in /usr/local/lib/python3.7/dist-packages (from ipython->ipython-autotime) (4.8.0)\n",
            "Requirement already satisfied: prompt-toolkit<2.0.0,>=1.0.4 in /usr/local/lib/python3.7/dist-packages (from ipython->ipython-autotime) (1.0.18)\n",
            "Requirement already satisfied: pickleshare in /usr/local/lib/python3.7/dist-packages (from ipython->ipython-autotime) (0.7.5)\n",
            "Requirement already satisfied: pygments in /usr/local/lib/python3.7/dist-packages (from ipython->ipython-autotime) (2.6.1)\n",
            "Requirement already satisfied: ipython-genutils in /usr/local/lib/python3.7/dist-packages (from traitlets>=4.2->ipython->ipython-autotime) (0.2.0)\n",
            "Requirement already satisfied: ptyprocess>=0.5 in /usr/local/lib/python3.7/dist-packages (from pexpect; sys_platform != \"win32\"->ipython->ipython-autotime) (0.7.0)\n",
            "Requirement already satisfied: wcwidth in /usr/local/lib/python3.7/dist-packages (from prompt-toolkit<2.0.0,>=1.0.4->ipython->ipython-autotime) (0.2.5)\n",
            "Requirement already satisfied: six>=1.9.0 in /usr/local/lib/python3.7/dist-packages (from prompt-toolkit<2.0.0,>=1.0.4->ipython->ipython-autotime) (1.15.0)\n",
            "Installing collected packages: ipython-autotime\n",
            "Successfully installed ipython-autotime-0.3.1\n",
            "time: 2.37 ms (started: 2021-06-28 13:34:35 +00:00)\n"
          ],
          "name": "stdout"
        }
      ]
    },
    {
      "cell_type": "code",
      "metadata": {
        "colab": {
          "base_uri": "https://localhost:8080/"
        },
        "id": "ceB-qijkAkdZ",
        "outputId": "7d5805ba-ea24-4d79-dd0a-f3b2fd10c35d"
      },
      "source": [
        "!pip install bing-image-downloader"
      ],
      "execution_count": 2,
      "outputs": [
        {
          "output_type": "stream",
          "text": [
            "Collecting bing-image-downloader\n",
            "  Downloading https://files.pythonhosted.org/packages/c2/04/1872a689a30036aa0b81ac9fca124a7413cad71fdab714f727cf1a34b671/bing_image_downloader-1.1.1-py3-none-any.whl\n",
            "Installing collected packages: bing-image-downloader\n",
            "Successfully installed bing-image-downloader-1.1.1\n",
            "time: 3.04 s (started: 2021-06-28 13:34:36 +00:00)\n"
          ],
          "name": "stdout"
        }
      ]
    },
    {
      "cell_type": "code",
      "metadata": {
        "id": "ysgAulUkBrE_",
        "colab": {
          "base_uri": "https://localhost:8080/"
        },
        "outputId": "047f5b97-fb9d-4f28-94a5-f77c3336af40"
      },
      "source": [
        "!mkdir images"
      ],
      "execution_count": 3,
      "outputs": [
        {
          "output_type": "stream",
          "text": [
            "time: 112 ms (started: 2021-06-28 13:34:39 +00:00)\n"
          ],
          "name": "stdout"
        }
      ]
    },
    {
      "cell_type": "code",
      "metadata": {
        "colab": {
          "base_uri": "https://localhost:8080/"
        },
        "id": "nTAIhWqPDBwf",
        "outputId": "3a5622ea-5260-436f-806a-fd097e43b052"
      },
      "source": [
        "from bing_image_downloader import downloader\n",
        "downloader.download(\"dogs\",limit=30,output_dir =\"images\",adult_filter_off ='True')"
      ],
      "execution_count": 4,
      "outputs": [
        {
          "output_type": "stream",
          "text": [
            "[%] Downloading Images to /content/images/dogs\n",
            "\n",
            "\n",
            "[!!]Indexing page: 1\n",
            "\n",
            "[%] Indexed 30 Images on Page 1.\n",
            "\n",
            "===============================================\n",
            "\n",
            "[%] Downloading Image #1 from https://i.ytimg.com/vi/DXIWEFq_51E/maxresdefault.jpg\n",
            "[%] File Downloaded !\n",
            "\n",
            "[%] Downloading Image #2 from https://i.pinimg.com/originals/25/9f/1d/259f1d7f61455fb25715bb56ce68f37e.jpg\n",
            "[%] File Downloaded !\n",
            "\n",
            "[%] Downloading Image #3 from https://i.pinimg.com/originals/7b/9c/0f/7b9c0f2fbec3988c4064f28b77b6d075.jpg\n",
            "[%] File Downloaded !\n",
            "\n",
            "[%] Downloading Image #4 from https://i.pinimg.com/736x/30/c9/23/30c923a5ebef78eddd4e6f898ece1db5--inspirational-so-true.jpg\n",
            "[%] File Downloaded !\n",
            "\n",
            "[%] Downloading Image #5 from http://piximus.net/media/4153/dogs-true-friendship-12.jpg\n",
            "[%] File Downloaded !\n",
            "\n",
            "[%] Downloading Image #6 from http://piximus.net/media/4153/dogs-true-friendship-17.jpg\n",
            "[%] File Downloaded !\n",
            "\n",
            "[%] Downloading Image #7 from https://www.eden.co.uk/images/500/9780800727130.jpg\n",
            "[!] Issue getting: https://www.eden.co.uk/images/500/9780800727130.jpg\n",
            "[!] Error:: HTTP Error 403: Forbidden\n",
            "[%] Downloading Image #7 from http://img1.grunge.com/img/gallery/false-facts-about-dogs-you-always-thought-were-true/dogs-will-only-respect-their-alpha.jpg\n",
            "[%] File Downloaded !\n",
            "\n",
            "[%] Downloading Image #8 from https://1funny.com/wp-content/uploads/2012/04/2-4.jpg\n",
            "[%] File Downloaded !\n",
            "\n",
            "[%] Downloading Image #9 from http://piximus.net/media/4153/dogs-true-friendship-14.jpg\n",
            "[%] File Downloaded !\n",
            "\n",
            "[%] Downloading Image #10 from http://ecx.images-amazon.com/images/I/51%2BwRHeWwVL._BO2,204,203,200_PIsitb-sticker-v3-big,TopRight,0,-55_SX278_SY278_PIkin4,BottomRight,1,22_AA300_SH20_OU01_.jpg\n",
            "[%] File Downloaded !\n",
            "\n",
            "[%] Downloading Image #11 from https://eatliver.b-cdn.net/wp-content/uploads/2018/07/true-love20.jpg\n",
            "[%] File Downloaded !\n",
            "\n",
            "[%] Downloading Image #12 from https://img2.grunge.com/img/gallery/false-facts-about-dogs-you-always-thought-were-true/dogs-and-cats-just-cant-get-along.jpg\n",
            "[%] File Downloaded !\n",
            "\n",
            "[%] Downloading Image #13 from http://piximus.net/media/4153/dogs-true-friendship-13.jpg\n",
            "[%] File Downloaded !\n",
            "\n",
            "[%] Downloading Image #14 from https://cdn.acidcow.com/pics/20110823/dogs_in_laps_05.jpg\n",
            "[%] File Downloaded !\n",
            "\n",
            "[%] Downloading Image #15 from https://i.ytimg.com/vi/mo_1bbibAPg/maxresdefault.jpg\n",
            "[%] File Downloaded !\n",
            "\n",
            "[%] Downloading Image #16 from https://i.pinimg.com/originals/8c/55/d8/8c55d878ab9d1e83642f355b0b53d782.jpg\n",
            "[%] File Downloaded !\n",
            "\n",
            "[%] Downloading Image #17 from https://img4.grunge.com/img/uploads/2016/12/false-facts-about-dogs-you-always-thought-were-true-780x438_rev1.jpg\n",
            "[%] File Downloaded !\n",
            "\n",
            "[%] Downloading Image #18 from http://piximus.net/media/4153/dogs-true-friendship-1.jpg\n",
            "[%] File Downloaded !\n",
            "\n",
            "[%] Downloading Image #19 from http://piximus.net/media/4153/dogs-true-friendship-18.jpg\n",
            "[%] File Downloaded !\n",
            "\n",
            "[%] Downloading Image #20 from https://i.pinimg.com/originals/6f/9c/c3/6f9cc3d4ba7a6aed953fc2212f9ad2d8.jpg\n",
            "[%] File Downloaded !\n",
            "\n",
            "[%] Downloading Image #21 from https://s.yimg.com/aah/entirelypets/true-dose-wellness-for-dogs-4-oz-20.jpg\n",
            "[%] File Downloaded !\n",
            "\n",
            "[%] Downloading Image #22 from http://media-cache-ak0.pinimg.com/736x/0d/b5/4a/0db54abff36dcb976266ebb1137dfa86.jpg\n",
            "[%] File Downloaded !\n",
            "\n",
            "[%] Downloading Image #23 from https://eatliver.b-cdn.net/wp-content/uploads/2018/07/true-love10.jpg\n",
            "[%] File Downloaded !\n",
            "\n",
            "[%] Downloading Image #24 from https://cdn.newsapi.com.au/image/v1/6808d118b7d755cd8679580dd61b5fa5\n",
            "[%] File Downloaded !\n",
            "\n",
            "[%] Downloading Image #25 from https://gatherboard-images.s3.amazonaws.com/pueblo-events/Denise_Joey-lg.jpg\n",
            "[%] File Downloaded !\n",
            "\n",
            "[%] Downloading Image #26 from http://ep.yimg.com/ay/healthypetscom/true-dose-joint-care-for-dogs-over-50-lbs-4-oz-2.gif\n",
            "[%] File Downloaded !\n",
            "\n",
            "[%] Downloading Image #27 from https://img1.grunge.com/img/gallery/false-facts-about-dogs-you-always-thought-were-true/intro.jpg\n",
            "[%] File Downloaded !\n",
            "\n",
            "[%] Downloading Image #28 from http://www.dogcancerblog.com/wp-content/uploads/2013/07/your-dogs-true-tail.jpg\n",
            "[%] File Downloaded !\n",
            "\n",
            "[%] Downloading Image #29 from https://eatliver.b-cdn.net/wp-content/uploads/2018/07/true-love2.jpg\n",
            "[%] File Downloaded !\n",
            "\n",
            "\n",
            "\n",
            "[!!]Indexing page: 2\n",
            "\n",
            "[%] Indexed 35 Images on Page 2.\n",
            "\n",
            "===============================================\n",
            "\n",
            "[%] Downloading Image #30 from https://i.ytimg.com/vi/DXIWEFq_51E/maxresdefault.jpg\n",
            "[%] File Downloaded !\n",
            "\n",
            "\n",
            "\n",
            "[%] Done. Downloaded 30 images.\n",
            "===============================================\n",
            "\n",
            "Please show your support here\n",
            "https://www.buymeacoffee.com/gurugaurav\n",
            "\n",
            "===============================================\n",
            "\n",
            "time: 13.3 s (started: 2021-06-28 13:34:39 +00:00)\n"
          ],
          "name": "stdout"
        }
      ]
    },
    {
      "cell_type": "code",
      "metadata": {
        "colab": {
          "base_uri": "https://localhost:8080/"
        },
        "id": "D0a2XRwzEvZ_",
        "outputId": "50f471fa-eb19-478e-b760-36533fb2c32b"
      },
      "source": [
        "from bing_image_downloader import downloader\n",
        "downloader.download(\"cats\",limit=30,output_dir =\"images\",adult_filter_off ='True')"
      ],
      "execution_count": 5,
      "outputs": [
        {
          "output_type": "stream",
          "text": [
            "[%] Downloading Images to /content/images/cats\n",
            "\n",
            "\n",
            "[!!]Indexing page: 1\n",
            "\n",
            "[%] Indexed 30 Images on Page 1.\n",
            "\n",
            "===============================================\n",
            "\n",
            "[%] Downloading Image #1 from https://urbanarts.vteximg.com.br/arquivos/ids/4777644-1000-1000/quadro-cats-true-love-1.jpg?v=637201434961830000\n",
            "[Error]Invalid image, not saving https://urbanarts.vteximg.com.br/arquivos/ids/4777644-1000-1000/quadro-cats-true-love-1.jpg?v=637201434961830000\n",
            "\n",
            "[!] Issue getting: https://urbanarts.vteximg.com.br/arquivos/ids/4777644-1000-1000/quadro-cats-true-love-1.jpg?v=637201434961830000\n",
            "[!] Error:: Invalid image, not saving https://urbanarts.vteximg.com.br/arquivos/ids/4777644-1000-1000/quadro-cats-true-love-1.jpg?v=637201434961830000\n",
            "\n",
            "[%] Downloading Image #1 from https://readlarrypowell.typepad.com/.a/6a00d8341c4e0853ef0264e2e51a7e200d-600wi\n",
            "[%] File Downloaded !\n",
            "\n",
            "[%] Downloading Image #2 from https://www.vancatmeow.com/wp-content/uploads/2017/10/Front_cover_Black_Cats_Tell_All.jpg\n",
            "[%] File Downloaded !\n",
            "\n",
            "[%] Downloading Image #3 from https://yt3.ggpht.com/a/AATXAJymPcyf052Nr2Q5TeFy9JJGqdv_zcUBilZDtQ=s900-c-k-c0xffffffff-no-rj-mo\n",
            "[%] File Downloaded !\n",
            "\n",
            "[%] Downloading Image #4 from https://i.ytimg.com/vi/U4IzGLhjPiU/maxresdefault.jpg\n",
            "[!] Issue getting: https://i.ytimg.com/vi/U4IzGLhjPiU/maxresdefault.jpg\n",
            "[!] Error:: HTTP Error 404: Not Found\n",
            "[%] Downloading Image #4 from https://i.pinimg.com/originals/4f/74/aa/4f74aac703022ea82d6273718a72ae76.jpg\n",
            "[%] File Downloaded !\n",
            "\n",
            "[%] Downloading Image #5 from https://readlarrypowell.typepad.com/.a/6a00d8341c4e0853ef0263ec24a0d5200c-600wi\n",
            "[%] File Downloaded !\n",
            "\n",
            "[%] Downloading Image #6 from https://i.ebayimg.com/images/g/IgYAAOSw3cBeqOXz/s-l300.jpg\n",
            "[%] File Downloaded !\n",
            "\n",
            "[%] Downloading Image #7 from https://i.pinimg.com/originals/a8/c4/3b/a8c43b42539f524fb3c112841914473d.jpg\n",
            "[%] File Downloaded !\n",
            "\n",
            "[%] Downloading Image #8 from https://i.pinimg.com/originals/59/15/73/591573940c30c369bcacae82332c35b8.jpg\n",
            "[%] File Downloaded !\n",
            "\n",
            "[%] Downloading Image #9 from https://itsalovelylife.com/wp-content/uploads/2015/05/cat-photos-1400x700.jpg\n",
            "[%] File Downloaded !\n",
            "\n",
            "[%] Downloading Image #10 from https://i.pinimg.com/originals/94/09/ef/9409efca818ee2ff7e6839af1b08e2e1.jpg\n",
            "[%] File Downloaded !\n",
            "\n",
            "[%] Downloading Image #11 from https://i.ytimg.com/vi/Jvni7WMuPrI/maxresdefault.jpg\n",
            "[%] File Downloaded !\n",
            "\n",
            "[%] Downloading Image #12 from https://i.ytimg.com/vi/Q6ll80wQ7Jg/maxresdefault.jpg\n",
            "[%] File Downloaded !\n",
            "\n",
            "[%] Downloading Image #13 from https://i.ytimg.com/vi/DvkDPcK7BRI/maxresdefault.jpg\n",
            "[%] File Downloaded !\n",
            "\n",
            "[%] Downloading Image #14 from https://www.purina.com/sites/g/files/auxxlc196/files/TrueNatureArticle_Header_2.jpg\n",
            "[%] File Downloaded !\n",
            "\n",
            "[%] Downloading Image #15 from https://i.ytimg.com/vi/r8zTYyDwyCg/maxresdefault.jpg\n",
            "[%] File Downloaded !\n",
            "\n",
            "[%] Downloading Image #16 from https://i.ytimg.com/vi/wKw18tXLvwM/maxresdefault.jpg\n",
            "[%] File Downloaded !\n",
            "\n",
            "[%] Downloading Image #17 from https://i.ytimg.com/vi/X5Gdxa6QPgY/maxresdefault.jpg\n",
            "[%] File Downloaded !\n",
            "\n",
            "[%] Downloading Image #18 from https://i.redd.it/m5t154yptg741.jpg\n",
            "[%] File Downloaded !\n",
            "\n",
            "[%] Downloading Image #19 from https://cdn.shopify.com/s/files/1/0897/4456/products/1401012301_1411012301_1403012301-ComboMWK-True_Love_Cats_2014_mens_side_grande.jpeg?v=1571439005\n",
            "[%] File Downloaded !\n",
            "\n",
            "[%] Downloading Image #20 from https://i.pinimg.com/originals/cd/cf/f4/cdcff47a5ad9a6d5b8fa7607634eeb99.jpg\n",
            "[%] File Downloaded !\n",
            "\n",
            "[%] Downloading Image #21 from https://i.ytimg.com/vi/k5rGSLPF0nQ/maxresdefault.jpg\n",
            "[%] File Downloaded !\n",
            "\n",
            "[%] Downloading Image #22 from https://i.ytimg.com/vi/Ec4LgEHK2wU/maxresdefault.jpg\n",
            "[%] File Downloaded !\n",
            "\n",
            "[%] Downloading Image #23 from https://i.ytimg.com/vi/do_BaN9S57E/maxresdefault.jpg\n",
            "[%] File Downloaded !\n",
            "\n",
            "[%] Downloading Image #24 from https://i.rmbl.ws/s8/1/P/m/-/1/Pm-1a.qR4e-small-True-Facts-About-Cats.jpg\n",
            "[%] File Downloaded !\n",
            "\n",
            "[%] Downloading Image #25 from https://i.ytimg.com/vi/njHf5z6yU_w/maxresdefault.jpg\n",
            "[%] File Downloaded !\n",
            "\n",
            "[%] Downloading Image #26 from http://moderncat.com/sites/default/files/images/articles/top_images/TrueCatFacts-header.jpg\n",
            "[%] File Downloaded !\n",
            "\n",
            "[%] Downloading Image #27 from https://cdn3.whatculture.com/images/2020/03/d0cae28c76f33192-600x338.jpg\n",
            "[%] File Downloaded !\n",
            "\n",
            "[%] Downloading Image #28 from http://prodimage.images-bn.com/pimages/9780060927806_p0_v1_s1200x630.jpg\n",
            "[%] File Downloaded !\n",
            "\n",
            "\n",
            "\n",
            "[!!]Indexing page: 2\n",
            "\n",
            "[%] Indexed 35 Images on Page 2.\n",
            "\n",
            "===============================================\n",
            "\n",
            "[%] Downloading Image #29 from https://urbanarts.vteximg.com.br/arquivos/ids/4777644-1000-1000/quadro-cats-true-love-1.jpg?v=637201434961830000\n",
            "[Error]Invalid image, not saving https://urbanarts.vteximg.com.br/arquivos/ids/4777644-1000-1000/quadro-cats-true-love-1.jpg?v=637201434961830000\n",
            "\n",
            "[!] Issue getting: https://urbanarts.vteximg.com.br/arquivos/ids/4777644-1000-1000/quadro-cats-true-love-1.jpg?v=637201434961830000\n",
            "[!] Error:: Invalid image, not saving https://urbanarts.vteximg.com.br/arquivos/ids/4777644-1000-1000/quadro-cats-true-love-1.jpg?v=637201434961830000\n",
            "\n",
            "[%] Downloading Image #29 from https://readlarrypowell.typepad.com/.a/6a00d8341c4e0853ef0264e2e51a7e200d-600wi\n",
            "[%] File Downloaded !\n",
            "\n",
            "[%] Downloading Image #30 from https://www.vancatmeow.com/wp-content/uploads/2017/10/Front_cover_Black_Cats_Tell_All.jpg\n",
            "[%] File Downloaded !\n",
            "\n",
            "\n",
            "\n",
            "[%] Done. Downloaded 30 images.\n",
            "===============================================\n",
            "\n",
            "Please show your support here\n",
            "https://www.buymeacoffee.com/gurugaurav\n",
            "\n",
            "===============================================\n",
            "\n",
            "time: 12.7 s (started: 2021-06-28 13:34:52 +00:00)\n"
          ],
          "name": "stdout"
        }
      ]
    },
    {
      "cell_type": "code",
      "metadata": {
        "colab": {
          "base_uri": "https://localhost:8080/"
        },
        "id": "SJp8iFDduWMV",
        "outputId": "2c5d4e46-1791-4cdf-c689-75e92b7ae511"
      },
      "source": [
        "from bing_image_downloader import downloader\n",
        "downloader.download(\"elephant\",limit=30,output_dir =\"images\",adult_filter_off ='True')"
      ],
      "execution_count": 6,
      "outputs": [
        {
          "output_type": "stream",
          "text": [
            "[%] Downloading Images to /content/images/elephant\n",
            "\n",
            "\n",
            "[!!]Indexing page: 1\n",
            "\n",
            "[%] Indexed 30 Images on Page 1.\n",
            "\n",
            "===============================================\n",
            "\n",
            "[%] Downloading Image #1 from https://www.ferolos.com/wp-content/uploads/2019/09/Elephant-True-Colors-iPhone-Case.jpg\n",
            "[%] File Downloaded !\n",
            "\n",
            "[%] Downloading Image #2 from https://thumbs.dreamstime.com/z/elephant-hiding-true-african-safari-mpumalanga-south-africa-130535176.jpg\n",
            "[%] File Downloaded !\n",
            "\n",
            "[%] Downloading Image #3 from https://i.pinimg.com/originals/ee/8f/7d/ee8f7d583227c4f189a60e4e7e1a280c.jpg\n",
            "[%] File Downloaded !\n",
            "\n",
            "[%] Downloading Image #4 from https://www.refinery29.com/images/8636925.jpg?crop=2000%2C1051%2Cx0%2Cy201\n",
            "[%] File Downloaded !\n",
            "\n",
            "[%] Downloading Image #5 from http://picklemethis.com/wp-content/uploads/2015/11/elephant-journey.jpg\n",
            "[%] File Downloaded !\n",
            "\n",
            "[%] Downloading Image #6 from http://ecx.images-amazon.com/images/I/511QOcZAdwL._SY344_BO1,204,203,200_.jpg\n",
            "[%] File Downloaded !\n",
            "\n",
            "[%] Downloading Image #7 from https://www.merrystour.com/wp-content/uploads/2020/01/ELEPHANT-TREKKING-2.jpg\n",
            "[%] File Downloaded !\n",
            "\n",
            "[%] Downloading Image #8 from https://static.wixstatic.com/media/3b9838_d8ac073128c14b8c8501a2ca2b7bdb48~mv2_d_2000_1333_s_2.jpeg/v1/fit/w_1000%2Ch_1000%2Cal_c%2Cq_80/file.png\n",
            "[%] File Downloaded !\n",
            "\n",
            "[%] Downloading Image #9 from https://img.elephantjournal.com/wp-content/uploads/2019/03/luna-month.jpg\n",
            "[%] File Downloaded !\n",
            "\n",
            "[%] Downloading Image #10 from https://i.pinimg.com/736x/13/5c/6b/135c6bf0212ab94c7c196a179dff8040--the-elephants.jpg\n",
            "[%] File Downloaded !\n",
            "\n",
            "[%] Downloading Image #11 from https://i0.wp.com/truepundit.com/wp-content/uploads/2017/11/Elephant.jpg?fit=1920%2C1080&amp;ssl=1\n",
            "[%] File Downloaded !\n",
            "\n",
            "[%] Downloading Image #12 from https://i.ytimg.com/vi/_mWqYYRamIU/maxresdefault.jpg\n",
            "[%] File Downloaded !\n",
            "\n",
            "[%] Downloading Image #13 from https://cdn.christravelblog.com/wp-content/uploads/2020/02/three-elephants-thailand-chiang-rai-elephant-valley-camp-sanctuary-IMG_6250-1024x663.jpg\n",
            "[%] File Downloaded !\n",
            "\n",
            "[%] Downloading Image #14 from https://www.thebooktrail.com/wp-content/uploads/2018/08/11-3.jpg\n",
            "[%] File Downloaded !\n",
            "\n",
            "[%] Downloading Image #15 from https://i.ytimg.com/vi/MNL_Wn9xXec/maxresdefault.jpg\n",
            "[%] File Downloaded !\n",
            "\n",
            "[%] Downloading Image #16 from https://i.pinimg.com/originals/be/92/02/be9202609002181f9396acf286798244.jpg\n",
            "[%] File Downloaded !\n",
            "\n",
            "[%] Downloading Image #17 from https://www.midnightblueelephant.com/wp-content/uploads/2015/03/singapuredits-10-1024x683.jpg\n",
            "[%] File Downloaded !\n",
            "\n",
            "[%] Downloading Image #18 from https://thedisplay.net/wp-content/uploads/2017/11/Elephant-Kind-True-Love-Launching-by-Sancoyo-Purnomo-1.jpg\n",
            "[%] File Downloaded !\n",
            "\n",
            "[%] Downloading Image #19 from https://res.cloudinary.com/videdressing/image/upload/t_p_2000/v1583404278/products/5669054-4.jpg\n",
            "[%] File Downloaded !\n",
            "\n",
            "[%] Downloading Image #20 from https://i.pinimg.com/originals/f8/9b/bc/f89bbc93a20aedb3babe6175b0b361b6.jpg\n",
            "[%] File Downloaded !\n",
            "\n",
            "[%] Downloading Image #21 from http://photos1.blogger.com/blogger/3626/2340/1600/Elephant.jpg\n",
            "[%] File Downloaded !\n",
            "\n",
            "[%] Downloading Image #22 from https://res.cloudinary.com/videdressing/image/upload/t_p_2000/v1583404279/products/5312551-6.jpg\n",
            "[%] File Downloaded !\n",
            "\n",
            "[%] Downloading Image #23 from https://www.scienceabc.com/wp-content/uploads/2015/09/elephants-playing.jpg\n",
            "[%] File Downloaded !\n",
            "\n",
            "[%] Downloading Image #24 from http://www.truebaliexperience.com/images/photo_gallery/bali_elephant_camp1.jpg\n",
            "[%] File Downloaded !\n",
            "\n",
            "[%] Downloading Image #25 from http://www.truebaliexperience.com/images/photo_gallery/bali_elephant_camp18.jpg\n",
            "[%] File Downloaded !\n",
            "\n",
            "[%] Downloading Image #26 from https://www.truebaliexperience.com/images/photo_gallery/bali_elephant_camp14.jpg\n",
            "[%] File Downloaded !\n",
            "\n",
            "[%] Downloading Image #27 from https://images2.minutemediacdn.com/image/upload/c_fill,g_auto,h_1248,w_2220/v1555926019/shape/mentalfloss/92135118.jpg?itok=XNPTG-Pw\n",
            "[%] File Downloaded !\n",
            "\n",
            "[%] Downloading Image #28 from https://i.pinimg.com/originals/27/d8/32/27d832157338274cc732944816a818ff.jpg\n",
            "[%] File Downloaded !\n",
            "\n",
            "[%] Downloading Image #29 from http://4.bp.blogspot.com/-PaI5J7P95JM/UOEqxpMfLSI/AAAAAAAAAU0/mqkoV1EUT5s/s1600/African+Elephant.jpg\n",
            "[%] File Downloaded !\n",
            "\n",
            "[%] Downloading Image #30 from http://truebaliexperience.com/images/photo_gallery/bali_elephant_camp5.jpg\n",
            "[%] File Downloaded !\n",
            "\n",
            "\n",
            "\n",
            "[%] Done. Downloaded 30 images.\n",
            "===============================================\n",
            "\n",
            "Please show your support here\n",
            "https://www.buymeacoffee.com/gurugaurav\n",
            "\n",
            "===============================================\n",
            "\n",
            "time: 16.3 s (started: 2021-06-28 13:35:05 +00:00)\n"
          ],
          "name": "stdout"
        }
      ]
    },
    {
      "cell_type": "code",
      "metadata": {
        "colab": {
          "base_uri": "https://localhost:8080/"
        },
        "id": "Jw33qWYb14Rk",
        "outputId": "99d09050-52a5-4e77-d714-bc7026af84da"
      },
      "source": [
        "import numpy as np\n",
        "a =np.array([[1,2,3,4,5],\n",
        "             [6,7,8,9,10]])\n",
        "a.ndim"
      ],
      "execution_count": 7,
      "outputs": [
        {
          "output_type": "execute_result",
          "data": {
            "text/plain": [
              "2"
            ]
          },
          "metadata": {
            "tags": []
          },
          "execution_count": 7
        },
        {
          "output_type": "stream",
          "text": [
            "time: 6.73 ms (started: 2021-06-28 13:35:21 +00:00)\n"
          ],
          "name": "stdout"
        }
      ]
    },
    {
      "cell_type": "code",
      "metadata": {
        "colab": {
          "base_uri": "https://localhost:8080/"
        },
        "id": "Ks_5UW6S2X0p",
        "outputId": "817450c2-702e-4790-aae5-4ca0c6df4e5c"
      },
      "source": [
        "a.flatten()"
      ],
      "execution_count": 8,
      "outputs": [
        {
          "output_type": "execute_result",
          "data": {
            "text/plain": [
              "array([ 1,  2,  3,  4,  5,  6,  7,  8,  9, 10])"
            ]
          },
          "metadata": {
            "tags": []
          },
          "execution_count": 8
        },
        {
          "output_type": "stream",
          "text": [
            "time: 7.81 ms (started: 2021-06-28 13:35:21 +00:00)\n"
          ],
          "name": "stdout"
        }
      ]
    },
    {
      "cell_type": "code",
      "metadata": {
        "colab": {
          "base_uri": "https://localhost:8080/"
        },
        "id": "AzsG0Jszx6-z",
        "outputId": "e7b31f20-c7cb-4ab3-80aa-314f5beecef0"
      },
      "source": [
        "#preprocessing\n",
        "# 1.resize\n",
        "# 2.flatten\n",
        "import os\n",
        "import matplotlib.pyplot as plt\n",
        "import numpy as np\n",
        "import pandas as pd\n",
        "from skimage.io import imread\n",
        "from skimage.transform import resize\n",
        "\n",
        "target = []\n",
        "images = []\n",
        "flat_data = []\n",
        "\n",
        "DATADIR ='/content/images'\n",
        "CATEGORIES = ['cats','dogs','elephant']\n",
        "\n",
        "for category in CATEGORIES:\n",
        "  class_num = CATEGORIES.index(category)   #label encoding the values\n",
        "  path = os.path.join(DATADIR,category)    #create path to use all the images\n",
        "  for img in os.listdir(path):\n",
        "    img_array = imread(os.path.join(path,img))\n",
        "    #print(img_array.shape)\n",
        "    #plt.imshow(img_array)\n",
        "    #break\n",
        "    img_resized = resize(img_array,(150,150,3))   #Normalizes the values from 0 to 1\n",
        "    flat_data.append(img_resized.flatten())\n",
        "    images.append(img_resized)\n",
        "    target.append(class_num)\n",
        "\n",
        "flat_data = np.array(flat_data)\n",
        "target = np.array(target)\n",
        "images = np.array(images)    \n",
        " "
      ],
      "execution_count": 9,
      "outputs": [
        {
          "output_type": "stream",
          "text": [
            "time: 26.7 s (started: 2021-06-28 13:35:21 +00:00)\n"
          ],
          "name": "stdout"
        }
      ]
    },
    {
      "cell_type": "code",
      "metadata": {
        "id": "i7NQv5v3RpkJ",
        "colab": {
          "base_uri": "https://localhost:8080/"
        },
        "outputId": "a0c1a234-0511-409a-c1a9-cfb700bbe57d"
      },
      "source": [
        "len(flat_data[0])"
      ],
      "execution_count": 10,
      "outputs": [
        {
          "output_type": "execute_result",
          "data": {
            "text/plain": [
              "67500"
            ]
          },
          "metadata": {
            "tags": []
          },
          "execution_count": 10
        },
        {
          "output_type": "stream",
          "text": [
            "time: 6.21 ms (started: 2021-06-28 13:35:48 +00:00)\n"
          ],
          "name": "stdout"
        }
      ]
    },
    {
      "cell_type": "code",
      "metadata": {
        "colab": {
          "base_uri": "https://localhost:8080/"
        },
        "id": "noCL1uhiKpWE",
        "outputId": "8b42adcc-827b-4046-b2cc-6892c5fdc774"
      },
      "source": [
        "150*150*3"
      ],
      "execution_count": 11,
      "outputs": [
        {
          "output_type": "execute_result",
          "data": {
            "text/plain": [
              "67500"
            ]
          },
          "metadata": {
            "tags": []
          },
          "execution_count": 11
        },
        {
          "output_type": "stream",
          "text": [
            "time: 6.26 ms (started: 2021-06-28 13:35:48 +00:00)\n"
          ],
          "name": "stdout"
        }
      ]
    },
    {
      "cell_type": "code",
      "metadata": {
        "colab": {
          "base_uri": "https://localhost:8080/"
        },
        "id": "DCHRxSlyK-5R",
        "outputId": "fd24c899-ff99-4dbd-f564-95687c8614b6"
      },
      "source": [
        "target"
      ],
      "execution_count": 12,
      "outputs": [
        {
          "output_type": "execute_result",
          "data": {
            "text/plain": [
              "array([0, 0, 0, 0, 0, 0, 0, 0, 0, 0, 0, 0, 0, 0, 0, 0, 0, 0, 0, 0, 0, 0,\n",
              "       0, 0, 0, 0, 0, 0, 0, 0, 1, 1, 1, 1, 1, 1, 1, 1, 1, 1, 1, 1, 1, 1,\n",
              "       1, 1, 1, 1, 1, 1, 1, 1, 1, 1, 1, 1, 1, 1, 1, 1, 2, 2, 2, 2, 2, 2,\n",
              "       2, 2, 2, 2, 2, 2, 2, 2, 2, 2, 2, 2, 2, 2, 2, 2, 2, 2, 2, 2, 2, 2,\n",
              "       2, 2])"
            ]
          },
          "metadata": {
            "tags": []
          },
          "execution_count": 12
        },
        {
          "output_type": "stream",
          "text": [
            "time: 7.27 ms (started: 2021-06-28 13:35:48 +00:00)\n"
          ],
          "name": "stdout"
        }
      ]
    },
    {
      "cell_type": "code",
      "metadata": {
        "colab": {
          "base_uri": "https://localhost:8080/"
        },
        "id": "DOGjrQCFLboP",
        "outputId": "83c23fda-9a9d-4183-f23f-0fda3f808e62"
      },
      "source": [
        "np.unique(target,return_counts= True)\n",
        "#plt.bar(CATEGORIES,count)"
      ],
      "execution_count": 13,
      "outputs": [
        {
          "output_type": "execute_result",
          "data": {
            "text/plain": [
              "(array([0, 1, 2]), array([30, 30, 30]))"
            ]
          },
          "metadata": {
            "tags": []
          },
          "execution_count": 13
        },
        {
          "output_type": "stream",
          "text": [
            "time: 8.34 ms (started: 2021-06-28 13:35:48 +00:00)\n"
          ],
          "name": "stdout"
        }
      ]
    },
    {
      "cell_type": "code",
      "metadata": {
        "colab": {
          "base_uri": "https://localhost:8080/",
          "height": 298
        },
        "id": "Z0Jlro8TL3-Y",
        "outputId": "05f7434e-371e-459e-b37f-654605aa457b"
      },
      "source": [
        "unique,count = np.unique(target,return_counts= True)\n",
        "plt.bar(CATEGORIES,count)"
      ],
      "execution_count": 14,
      "outputs": [
        {
          "output_type": "execute_result",
          "data": {
            "text/plain": [
              "<BarContainer object of 3 artists>"
            ]
          },
          "metadata": {
            "tags": []
          },
          "execution_count": 14
        },
        {
          "output_type": "display_data",
          "data": {
            "image/png": "[encoded data removed]",
            "text/plain": [
              "<Figure size 432x288 with 1 Axes>"
            ]
          },
          "metadata": {
            "tags": [],
            "needs_background": "light"
          }
        },
        {
          "output_type": "stream",
          "text": [
            "time: 175 ms (started: 2021-06-28 13:35:48 +00:00)\n"
          ],
          "name": "stdout"
        }
      ]
    },
    {
      "cell_type": "code",
      "metadata": {
        "colab": {
          "base_uri": "https://localhost:8080/"
        },
        "id": "r8v2G1n2MLO5",
        "outputId": "37965ade-b62e-484c-c133-02e7b64ca97f"
      },
      "source": [
        "# split the data training and testing\n",
        "\n",
        "from sklearn.model_selection import train_test_split\n",
        "x_train,x_test,y_train,y_test = train_test_split(flat_data,target,test_size =0.3,random_state = 109)"
      ],
      "execution_count": 15,
      "outputs": [
        {
          "output_type": "stream",
          "text": [
            "time: 169 ms (started: 2021-06-28 13:35:48 +00:00)\n"
          ],
          "name": "stdout"
        }
      ]
    },
    {
      "cell_type": "code",
      "metadata": {
        "colab": {
          "base_uri": "https://localhost:8080/"
        },
        "id": "7S-7uhTrKGxE",
        "outputId": "83e773d4-ba2c-42a5-c669-698aa228dabe"
      },
      "source": [
        "from sklearn.model_selection import GridSearchCV\n",
        "\n",
        "from sklearn import svm \n",
        "param_grid = [\n",
        "\n",
        "                {'C':[1,10,100,1000], 'kernel': [ 'linear']},\n",
        "                {'C':[1,10,100,1000], 'gamma': [0.001,0.0001], 'kernel': [ 'rbf']}\n",
        "             ]\n",
        "\n",
        "\n",
        "\n",
        "Svc = svm.SVC(probability=True) \n",
        "clf = GridSearchCV(Svc, param_grid) \n",
        "clf.fit(x_train,y_train)"
      ],
      "execution_count": 16,
      "outputs": [
        {
          "output_type": "execute_result",
          "data": {
            "text/plain": [
              "GridSearchCV(cv=None, error_score=nan,\n",
              "             estimator=SVC(C=1.0, break_ties=False, cache_size=200,\n",
              "                           class_weight=None, coef0=0.0,\n",
              "                           decision_function_shape='ovr', degree=3,\n",
              "                           gamma='scale', kernel='rbf', max_iter=-1,\n",
              "                           probability=True, random_state=None, shrinking=True,\n",
              "                           tol=0.001, verbose=False),\n",
              "             iid='deprecated', n_jobs=None,\n",
              "             param_grid=[{'C': [1, 10, 100, 1000], 'kernel': ['linear']},\n",
              "                         {'C': [1, 10, 100, 1000], 'gamma': [0.001, 0.0001],\n",
              "                          'kernel': ['rbf']}],\n",
              "             pre_dispatch='2*n_jobs', refit=True, return_train_score=False,\n",
              "             scoring=None, verbose=0)"
            ]
          },
          "metadata": {
            "tags": []
          },
          "execution_count": 16
        },
        {
          "output_type": "stream",
          "text": [
            "time: 2min 5s (started: 2021-06-28 13:35:48 +00:00)\n"
          ],
          "name": "stdout"
        }
      ]
    },
    {
      "cell_type": "code",
      "metadata": {
        "colab": {
          "base_uri": "https://localhost:8080/"
        },
        "id": "Dasjp-pIRsKT",
        "outputId": "bd4a21a2-ef3e-41a7-b392-9d7e08eba949"
      },
      "source": [
        "y_pred = clf.predict(x_test)\n",
        "y_pred"
      ],
      "execution_count": 17,
      "outputs": [
        {
          "output_type": "execute_result",
          "data": {
            "text/plain": [
              "array([0, 0, 0, 1, 0, 0, 0, 0, 0, 2, 0, 2, 0, 2, 2, 0, 2, 1, 1, 2, 1, 1,\n",
              "       0, 0, 1, 0, 0])"
            ]
          },
          "metadata": {
            "tags": []
          },
          "execution_count": 17
        },
        {
          "output_type": "stream",
          "text": [
            "time: 199 ms (started: 2021-06-28 13:37:54 +00:00)\n"
          ],
          "name": "stdout"
        }
      ]
    },
    {
      "cell_type": "code",
      "metadata": {
        "colab": {
          "base_uri": "https://localhost:8080/"
        },
        "id": "k-ZylQElTpV9",
        "outputId": "d272612c-00c0-4708-ae7a-8b9945385cd5"
      },
      "source": [
        "y_test"
      ],
      "execution_count": 18,
      "outputs": [
        {
          "output_type": "execute_result",
          "data": {
            "text/plain": [
              "array([1, 0, 1, 2, 2, 1, 0, 1, 1, 0, 1, 0, 1, 2, 2, 1, 2, 1, 0, 1, 2, 2,\n",
              "       2, 0, 0, 0, 1])"
            ]
          },
          "metadata": {
            "tags": []
          },
          "execution_count": 18
        },
        {
          "output_type": "stream",
          "text": [
            "time: 3.68 ms (started: 2021-06-28 13:37:54 +00:00)\n"
          ],
          "name": "stdout"
        }
      ]
    },
    {
      "cell_type": "code",
      "metadata": {
        "colab": {
          "base_uri": "https://localhost:8080/"
        },
        "id": "SMgcZqwBT2tQ",
        "outputId": "0979d684-0c52-4017-f04b-2e7bd7759fd9"
      },
      "source": [
        "from sklearn.metrics import accuracy_score,confusion_matrix"
      ],
      "execution_count": 19,
      "outputs": [
        {
          "output_type": "stream",
          "text": [
            "time: 1.31 ms (started: 2021-06-28 13:37:54 +00:00)\n"
          ],
          "name": "stdout"
        }
      ]
    },
    {
      "cell_type": "code",
      "metadata": {
        "colab": {
          "base_uri": "https://localhost:8080/"
        },
        "id": "P7OA8cQjUW0b",
        "outputId": "e1ab2ab0-4b8c-4388-a5fd-59ac95f9567b"
      },
      "source": [
        "accuracy_score(y_pred,y_test)"
      ],
      "execution_count": 20,
      "outputs": [
        {
          "output_type": "execute_result",
          "data": {
            "text/plain": [
              "0.2962962962962963"
            ]
          },
          "metadata": {
            "tags": []
          },
          "execution_count": 20
        },
        {
          "output_type": "stream",
          "text": [
            "time: 5.14 ms (started: 2021-06-28 13:37:54 +00:00)\n"
          ],
          "name": "stdout"
        }
      ]
    },
    {
      "cell_type": "code",
      "metadata": {
        "id": "S2QTUII3UhhS",
        "colab": {
          "base_uri": "https://localhost:8080/"
        },
        "outputId": "45417cf9-d9b8-4535-d55c-d0c7d9c55d30"
      },
      "source": [
        "confusion_matrix(y_pred,y_test)"
      ],
      "execution_count": 21,
      "outputs": [
        {
          "output_type": "execute_result",
          "data": {
            "text/plain": [
              "array([[4, 9, 2],\n",
              "       [2, 1, 3],\n",
              "       [2, 1, 3]])"
            ]
          },
          "metadata": {
            "tags": []
          },
          "execution_count": 21
        },
        {
          "output_type": "stream",
          "text": [
            "time: 10.2 ms (started: 2021-06-28 13:37:54 +00:00)\n"
          ],
          "name": "stdout"
        }
      ]
    },
    {
      "cell_type": "code",
      "metadata": {
        "colab": {
          "base_uri": "https://localhost:8080/"
        },
        "id": "n9AKS6T1MP9h",
        "outputId": "5009455d-f2e8-4be9-c4ea-8b289d8c64ea"
      },
      "source": [
        " #save the model using pickle library\n",
        " import pickle\n",
        " pickle.dump(clf,open('img_model.p','wb'))"
      ],
      "execution_count": 22,
      "outputs": [
        {
          "output_type": "stream",
          "text": [
            "time: 46.2 ms (started: 2021-06-28 13:37:54 +00:00)\n"
          ],
          "name": "stdout"
        }
      ]
    },
    {
      "cell_type": "code",
      "metadata": {
        "colab": {
          "base_uri": "https://localhost:8080/"
        },
        "id": "OhMoxX8UN7NT",
        "outputId": "83c90d53-08a7-40c3-e38f-1ac564bfe60f"
      },
      "source": [
        "model = pickle.load(open('img_model.p','rb'))"
      ],
      "execution_count": 23,
      "outputs": [
        {
          "output_type": "stream",
          "text": [
            "time: 20.4 ms (started: 2021-06-28 13:37:54 +00:00)\n"
          ],
          "name": "stdout"
        }
      ]
    },
    {
      "cell_type": "code",
      "metadata": {
        "colab": {
          "base_uri": "https://localhost:8080/",
          "height": 336
        },
        "id": "0yMJEUx4OQyA",
        "outputId": "041fd601-bbb5-41fb-9277-c54c71ae044c"
      },
      "source": [
        "#testing a brand new image\n",
        "flat_data = []\n",
        "url = input('enter your URL')\n",
        "img = imread(url)\n",
        "img_resized = resize(img,(150,150,3))\n",
        "flat_data.append(img_resized.flatten())\n",
        "flat_data = np.array(flat_data)\n",
        "print(img.shape)\n",
        "plt.imshow(img_resized)\n",
        "y_out = model.predict(flat_data)\n",
        "y_out = CATEGORIES[y_out[0]]\n",
        "print(f' PREDICTED OUTPUT: {y_out}')"
      ],
      "execution_count": 27,
      "outputs": [
        {
          "output_type": "stream",
          "text": [
            "enter your URLhttps://i.pinimg.com/originals/25/9f/1d/259f1d7f61455fb25715bb56ce68f37e.jpg\n",
            "(640, 445, 3)\n",
            " PREDICTED OUTPUT: dogs\n"
          ],
          "name": "stdout"
        },
        {
          "output_type": "display_data",
          "data": {
            "image/png": "[encoded data removed]",
            "text/plain": [
              "<Figure size 432x288 with 1 Axes>"
            ]
          },
          "metadata": {
            "tags": [],
            "needs_background": "light"
          }
        },
        {
          "output_type": "stream",
          "text": [
            "time: 8.63 s (started: 2021-06-28 13:57:19 +00:00)\n"
          ],
          "name": "stdout"
        }
      ]
    },
    {
      "cell_type": "code",
      "metadata": {
        "colab": {
          "base_uri": "https://localhost:8080/"
        },
        "id": "0HO5yGuoV4Ww",
        "outputId": "bb050760-1634-48f7-cffc-2039c20df1b4"
      },
      "source": [
        "%%writefile app.py\n",
        "import streamlit as st\n",
        "st.title('image classification')\n"
      ],
      "execution_count": 26,
      "outputs": [
        {
          "output_type": "stream",
          "text": [
            "Writing app.py\n",
            "time: 2.59 ms (started: 2021-06-28 13:40:48 +00:00)\n"
          ],
          "name": "stdout"
        }
      ]
    }
  ]
}